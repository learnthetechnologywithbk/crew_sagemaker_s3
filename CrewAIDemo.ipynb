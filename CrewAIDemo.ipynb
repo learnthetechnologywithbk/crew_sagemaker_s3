{
 "cells": [
  {
   "cell_type": "code",
   "execution_count": null,
   "id": "0ba359e8-043b-49f2-80a0-86f147a5b9b8",
   "metadata": {},
   "outputs": [],
   "source": [
    "\"\"\"\n",
    "Install required packages if not already installed.\n",
    "\n",
    "crewai: A framework for orchestrating AI agents & tasks. Enables you to define CrewAI agents, tools, and run workflows.\n",
    "pyowm: Python client library for OpenWeatherMap API. Provides a wrapper for OpenWeather API, but you are using OpenWeatherMapAPIWrapper \n",
    "instead.\n",
    "openai: OpenAI’s official Python client for GPT models.\tAllows GPT-4o to analyze weather data and generate natural language forecasts.\n",
    "boto3: AWS SDK for Python, used to interact with S3, Lambda, DynamoDB, etc.\tRequired if you want to store weather reports in AWS S3 or \n",
    "automate execution with Lambda.\n",
    "langchain_community: New module in LangChain that contains community-maintained tools, utilities, and \n",
    "integrations. \n",
    "\"\"\"\n",
    "\n",
    "!pip install crewai langchain_community pyowm openai boto3 "
   ]
  },
  {
   "cell_type": "code",
   "execution_count": null,
   "id": "540237fa-0999-4a95-8bb7-8ba8f2c8d7e9",
   "metadata": {},
   "outputs": [],
   "source": [
    "!pip install --upgrade pyowm"
   ]
  },
  {
   "cell_type": "code",
   "execution_count": null,
   "id": "0dcd23b5-8c09-40ba-b92d-185cbf2e1f2d",
   "metadata": {},
   "outputs": [],
   "source": [
    "!pip show pyowm"
   ]
  },
  {
   "cell_type": "code",
   "execution_count": null,
   "id": "c864890e-8300-4141-bf75-e2224fd3f225",
   "metadata": {},
   "outputs": [],
   "source": [
    "# Import necessary libraries\n",
    "import os\n",
    "import json\n",
    "from crewai import Agent, Task, Crew  # CrewAI core functionality\n",
    "from datetime import datetime\n",
    "import boto3 # to create the s3 client\n",
    "\n",
    "# Importing necessary tools and utilities\n",
    "from crewai.tools import BaseTool  # For defining custom tools in CrewAI\n",
    "from pydantic import Field  # For defining tool attributes\n",
    "from langchain_community.utilities import OpenWeatherMapAPIWrapper  # OpenWeather API wrapper"
   ]
  },
  {
   "cell_type": "code",
   "execution_count": null,
   "id": "007235d1-264e-4339-9711-a0e181cf7d88",
   "metadata": {},
   "outputs": [],
   "source": [
    "# Set API Keys securely using environment variables\n",
    "os.environ[\"OPENAI_API_KEY\"] = \"YOUR_OPENAI_API_KEY\" \n",
    "os.environ[\"OPENWEATHERMAP_API_KEY\"] = \"YOUR_WEATHERMAP_API_KEY\" \n",
    "os.environ[\"OPENAI_MODEL_NAME\"] = \"gpt-4o\"  "
   ]
  },
  {
   "cell_type": "code",
   "execution_count": null,
   "id": "c17ca45d-7403-4556-9dd6-b2c8c2dd7cf8",
   "metadata": {},
   "outputs": [],
   "source": [
    "# Manually configure AWS IAM credentials\n",
    "os.environ[\"AWS_ACCESS_KEY_ID\"] = \"YOUR_IAM_ACCESS_KEY\"  \n",
    "os.environ[\"AWS_SECRET_ACCESS_KEY\"] = \"YOUR_IAM_SECRET_KEY\" \n",
    "os.environ[\"AWS_REGION\"] = \"us-east-1\"  # Default aws region"
   ]
  },
  {
   "cell_type": "code",
   "execution_count": null,
   "id": "4f1c4411-d6b2-4e9f-b658-dd80a700051b",
   "metadata": {},
   "outputs": [],
   "source": [
    "# Set AWS S3 Configuration\n",
    "S3_BUCKET = \"YOUR_BUCKET_NAME\""
   ]
  },
  {
   "cell_type": "code",
   "execution_count": null,
   "id": "12f5e878-81b8-4308-a96f-56f0d65623b3",
   "metadata": {},
   "outputs": [],
   "source": [
    "# Initialize S3 Client\n",
    "s3_client = boto3.client(\"s3\")\n",
    "\n",
    "# Function to Save Data to S3\n",
    "def save_to_s3(file_name, text_data):\n",
    "    \"\"\"Uploads CrewAI results (forecast) to AWS S3\"\"\"\n",
    "\n",
    "    # Convert CrewAI Output to String\n",
    "    if not isinstance(text_data, str):\n",
    "        text_data = str(text_data)  # Convert CrewAI object to string\n",
    "    \n",
    "    file_path = f\"weather_reports/{file_name}\"  # Organizing reports in S3 folder\n",
    "    s3_client.put_object(Bucket=S3_BUCKET, Key=file_path, Body=text_data)\n",
    "    print(f\"Report saved to S3: s3://{S3_BUCKET}/{file_path}\")"
   ]
  },
  {
   "cell_type": "code",
   "execution_count": null,
   "id": "6b3be8fb-662f-4c99-b244-01a3f8ee6f82",
   "metadata": {},
   "outputs": [],
   "source": [
    "# Create an instance of OpenWeather API Wrapper\n",
    "weather = OpenWeatherMapAPIWrapper()\n",
    "\n",
    "# Define a Custom Weather Tool for CrewAI\n",
    "class WeatherTool(BaseTool):\n",
    "    \"\"\"\n",
    "    A custom CrewAI tool to fetch real-time weather information \n",
    "    from OpenWeather API.\n",
    "    \"\"\"\n",
    "    name: str = \"Weather\"\n",
    "    description: str = \"Weather tool for fetching real-time weather information for a given location.\"\n",
    "    \n",
    "    # Using OpenWeather API Wrapper to fetch data\n",
    "    weather: OpenWeatherMapAPIWrapper = Field(default_factory=OpenWeatherMapAPIWrapper)\n",
    "\n",
    "    def _run(self, location: str) -> str:\n",
    "        \"\"\"\n",
    "        Fetches weather data for a given location using OpenWeatherMap API.\n",
    "        Returns JSON data containing temperature, humidity, and weather conditions.\n",
    "        \"\"\"\n",
    "        try:\n",
    "            return self.weather.run(location)\n",
    "        except Exception as e:\n",
    "            return f\"Error getting weather: {str(e)}\""
   ]
  },
  {
   "cell_type": "code",
   "execution_count": null,
   "id": "8c9ff222-8243-4c54-a872-d8ba338576a7",
   "metadata": {},
   "outputs": [],
   "source": [
    "# Instantiate the Weather Tool\n",
    "weather_tool = WeatherTool()"
   ]
  },
  {
   "cell_type": "code",
   "execution_count": null,
   "id": "3ae4c9ab-2e98-4d5d-bcac-975197ae0fcb",
   "metadata": {},
   "outputs": [],
   "source": [
    "# Define the DataFetcher Agent\n",
    "data_fetcher = Agent(\n",
    "    name=\"DataFetcher\",\n",
    "    role=\"Weather Data Collector\",\n",
    "    goal=\"Retrieve real-time weather for {location}.\",\n",
    "    backstory=\"An AI meteorologist specializing in structured weather data collection.\",\n",
    "    tools=[weather_tool]  # Attaching the weather tool to this agent\n",
    ")\n",
    "\n",
    "# Define the DataAnalyzer Agent (Using GPT-4o)\n",
    "data_analyzer = Agent(\n",
    "    name=\"DataAnalyzer\",\n",
    "    role=\"Weather Data Analyst\",\n",
    "    goal=\"Analyze weather data and generate a detailed forecast (one paragraph max). \"\n",
    "         \"Also, the given temperature values are in Celsius. Please convert to Fahrenheit. \"\n",
    "         \"Use the formula: °F = °C × (9/5) + 32\",\n",
    "    backstory=\"An AI-driven meteorologist specializing in natural language weather reports.\"\n",
    ")"
   ]
  },
  {
   "cell_type": "code",
   "execution_count": null,
   "id": "de15b475-9019-4e6c-8014-52265d12333f",
   "metadata": {},
   "outputs": [],
   "source": [
    "# Define CrewAI Tasks\n",
    "task1 = Task(\n",
    "    description=\"Fetch real-time weather data for {location} using OpenWeather API.\",\n",
    "    agent=data_fetcher,\n",
    "    expected_output=\"Wind speed, humidity, temperature (in C), rain, heat index, and cloud cover.\"\n",
    ")\n",
    "\n",
    "task2 = Task(\n",
    "    description=\"Analyze the following weather data and generate a professional forecast.\",\n",
    "    agent=data_analyzer,\n",
    "    expected_output=\"A human-readable weather report summarizing conditions.\",\n",
    "    input=task1  # Task 2 receives weather info from Task 1\n",
    ")"
   ]
  },
  {
   "cell_type": "code",
   "execution_count": null,
   "id": "253a3b75-4587-4326-9de1-48cfb0af820d",
   "metadata": {},
   "outputs": [],
   "source": [
    "# Define CrewAI Workflow\n",
    "crew = Crew(\n",
    "    agents=[data_fetcher, data_analyzer],\n",
    "    tasks=[task1, task2],\n",
    "    verbose=True  # Enable verbose mode to see CrewAI execution logs\n",
    ")\n",
    "\n",
    "#  Before Running CrewAI, identify target city (could get this from user input or some other source)\n",
    "user_city = \"Philadelphia\"\n",
    "\n",
    "# Execute CrewAI Workflow with city\n",
    "results = crew.kickoff(inputs={\"location\": user_city})\n",
    "\n",
    "# Save Weather Report to S3\n",
    "report_data = results\n",
    "file_name = f\"{user_city}_weather_report_{datetime.now().strftime('%Y-%m-%d_%H-%M-%S')}.txt\"\n",
    "save_to_s3(file_name, report_data)"
   ]
  },
  {
   "cell_type": "code",
   "execution_count": null,
   "id": "a68c9535-0095-4faa-97e8-e1acd05e2fd2",
   "metadata": {},
   "outputs": [],
   "source": []
  }
 ],
 "metadata": {
  "kernelspec": {
   "display_name": "conda_python3",
   "language": "python",
   "name": "conda_python3"
  },
  "language_info": {
   "codemirror_mode": {
    "name": "ipython",
    "version": 3
   },
   "file_extension": ".py",
   "mimetype": "text/x-python",
   "name": "python",
   "nbconvert_exporter": "python",
   "pygments_lexer": "ipython3",
   "version": "3.10.16"
  }
 },
 "nbformat": 4,
 "nbformat_minor": 5
}
